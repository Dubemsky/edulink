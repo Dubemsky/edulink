{
  "nbformat": 4,
  "nbformat_minor": 0,
  "metadata": {
    "colab": {
      "provenance": []
    },
    "kernelspec": {
      "name": "python3",
      "display_name": "Python 3"
    },
    "language_info": {
      "name": "python"
    }
  },
  "cells": [
    {
      "cell_type": "code",
      "execution_count": 3,
      "metadata": {
        "colab": {
          "base_uri": "https://localhost:8080/"
        },
        "id": "UZZQGIFxx08W",
        "outputId": "87e021dc-b40c-4d94-9ad1-ec9b5fa3eebd"
      },
      "outputs": [
        {
          "output_type": "stream",
          "name": "stdout",
          "text": [
            "Requirement already satisfied: flask in /usr/local/lib/python3.11/dist-packages (3.1.0)\n",
            "Requirement already satisfied: sentence-transformers in /usr/local/lib/python3.11/dist-packages (3.4.1)\n",
            "Requirement already satisfied: faiss-cpu in /usr/local/lib/python3.11/dist-packages (1.10.0)\n",
            "Requirement already satisfied: pyngrok in /usr/local/lib/python3.11/dist-packages (7.2.3)\n",
            "Requirement already satisfied: Werkzeug>=3.1 in /usr/local/lib/python3.11/dist-packages (from flask) (3.1.3)\n",
            "Requirement already satisfied: Jinja2>=3.1.2 in /usr/local/lib/python3.11/dist-packages (from flask) (3.1.5)\n",
            "Requirement already satisfied: itsdangerous>=2.2 in /usr/local/lib/python3.11/dist-packages (from flask) (2.2.0)\n",
            "Requirement already satisfied: click>=8.1.3 in /usr/local/lib/python3.11/dist-packages (from flask) (8.1.8)\n",
            "Requirement already satisfied: blinker>=1.9 in /usr/local/lib/python3.11/dist-packages (from flask) (1.9.0)\n",
            "Requirement already satisfied: transformers<5.0.0,>=4.41.0 in /usr/local/lib/python3.11/dist-packages (from sentence-transformers) (4.48.3)\n",
            "Requirement already satisfied: tqdm in /usr/local/lib/python3.11/dist-packages (from sentence-transformers) (4.67.1)\n",
            "Requirement already satisfied: torch>=1.11.0 in /usr/local/lib/python3.11/dist-packages (from sentence-transformers) (2.5.1+cu124)\n",
            "Requirement already satisfied: scikit-learn in /usr/local/lib/python3.11/dist-packages (from sentence-transformers) (1.6.1)\n",
            "Requirement already satisfied: scipy in /usr/local/lib/python3.11/dist-packages (from sentence-transformers) (1.13.1)\n",
            "Requirement already satisfied: huggingface-hub>=0.20.0 in /usr/local/lib/python3.11/dist-packages (from sentence-transformers) (0.28.1)\n",
            "Requirement already satisfied: Pillow in /usr/local/lib/python3.11/dist-packages (from sentence-transformers) (11.1.0)\n",
            "Requirement already satisfied: numpy<3.0,>=1.25.0 in /usr/local/lib/python3.11/dist-packages (from faiss-cpu) (1.26.4)\n",
            "Requirement already satisfied: packaging in /usr/local/lib/python3.11/dist-packages (from faiss-cpu) (24.2)\n",
            "Requirement already satisfied: PyYAML>=5.1 in /usr/local/lib/python3.11/dist-packages (from pyngrok) (6.0.2)\n",
            "Requirement already satisfied: filelock in /usr/local/lib/python3.11/dist-packages (from huggingface-hub>=0.20.0->sentence-transformers) (3.17.0)\n",
            "Requirement already satisfied: fsspec>=2023.5.0 in /usr/local/lib/python3.11/dist-packages (from huggingface-hub>=0.20.0->sentence-transformers) (2024.10.0)\n",
            "Requirement already satisfied: requests in /usr/local/lib/python3.11/dist-packages (from huggingface-hub>=0.20.0->sentence-transformers) (2.32.3)\n",
            "Requirement already satisfied: typing-extensions>=3.7.4.3 in /usr/local/lib/python3.11/dist-packages (from huggingface-hub>=0.20.0->sentence-transformers) (4.12.2)\n",
            "Requirement already satisfied: MarkupSafe>=2.0 in /usr/local/lib/python3.11/dist-packages (from Jinja2>=3.1.2->flask) (3.0.2)\n",
            "Requirement already satisfied: networkx in /usr/local/lib/python3.11/dist-packages (from torch>=1.11.0->sentence-transformers) (3.4.2)\n",
            "Requirement already satisfied: nvidia-cuda-nvrtc-cu12==12.4.127 in /usr/local/lib/python3.11/dist-packages (from torch>=1.11.0->sentence-transformers) (12.4.127)\n",
            "Requirement already satisfied: nvidia-cuda-runtime-cu12==12.4.127 in /usr/local/lib/python3.11/dist-packages (from torch>=1.11.0->sentence-transformers) (12.4.127)\n",
            "Requirement already satisfied: nvidia-cuda-cupti-cu12==12.4.127 in /usr/local/lib/python3.11/dist-packages (from torch>=1.11.0->sentence-transformers) (12.4.127)\n",
            "Requirement already satisfied: nvidia-cudnn-cu12==9.1.0.70 in /usr/local/lib/python3.11/dist-packages (from torch>=1.11.0->sentence-transformers) (9.1.0.70)\n",
            "Requirement already satisfied: nvidia-cublas-cu12==12.4.5.8 in /usr/local/lib/python3.11/dist-packages (from torch>=1.11.0->sentence-transformers) (12.4.5.8)\n",
            "Requirement already satisfied: nvidia-cufft-cu12==11.2.1.3 in /usr/local/lib/python3.11/dist-packages (from torch>=1.11.0->sentence-transformers) (11.2.1.3)\n",
            "Requirement already satisfied: nvidia-curand-cu12==10.3.5.147 in /usr/local/lib/python3.11/dist-packages (from torch>=1.11.0->sentence-transformers) (10.3.5.147)\n",
            "Requirement already satisfied: nvidia-cusolver-cu12==11.6.1.9 in /usr/local/lib/python3.11/dist-packages (from torch>=1.11.0->sentence-transformers) (11.6.1.9)\n",
            "Requirement already satisfied: nvidia-cusparse-cu12==12.3.1.170 in /usr/local/lib/python3.11/dist-packages (from torch>=1.11.0->sentence-transformers) (12.3.1.170)\n",
            "Requirement already satisfied: nvidia-nccl-cu12==2.21.5 in /usr/local/lib/python3.11/dist-packages (from torch>=1.11.0->sentence-transformers) (2.21.5)\n",
            "Requirement already satisfied: nvidia-nvtx-cu12==12.4.127 in /usr/local/lib/python3.11/dist-packages (from torch>=1.11.0->sentence-transformers) (12.4.127)\n",
            "Requirement already satisfied: nvidia-nvjitlink-cu12==12.4.127 in /usr/local/lib/python3.11/dist-packages (from torch>=1.11.0->sentence-transformers) (12.4.127)\n",
            "Requirement already satisfied: triton==3.1.0 in /usr/local/lib/python3.11/dist-packages (from torch>=1.11.0->sentence-transformers) (3.1.0)\n",
            "Requirement already satisfied: sympy==1.13.1 in /usr/local/lib/python3.11/dist-packages (from torch>=1.11.0->sentence-transformers) (1.13.1)\n",
            "Requirement already satisfied: mpmath<1.4,>=1.1.0 in /usr/local/lib/python3.11/dist-packages (from sympy==1.13.1->torch>=1.11.0->sentence-transformers) (1.3.0)\n",
            "Requirement already satisfied: regex!=2019.12.17 in /usr/local/lib/python3.11/dist-packages (from transformers<5.0.0,>=4.41.0->sentence-transformers) (2024.11.6)\n",
            "Requirement already satisfied: tokenizers<0.22,>=0.21 in /usr/local/lib/python3.11/dist-packages (from transformers<5.0.0,>=4.41.0->sentence-transformers) (0.21.0)\n",
            "Requirement already satisfied: safetensors>=0.4.1 in /usr/local/lib/python3.11/dist-packages (from transformers<5.0.0,>=4.41.0->sentence-transformers) (0.5.3)\n",
            "Requirement already satisfied: joblib>=1.2.0 in /usr/local/lib/python3.11/dist-packages (from scikit-learn->sentence-transformers) (1.4.2)\n",
            "Requirement already satisfied: threadpoolctl>=3.1.0 in /usr/local/lib/python3.11/dist-packages (from scikit-learn->sentence-transformers) (3.5.0)\n",
            "Requirement already satisfied: charset-normalizer<4,>=2 in /usr/local/lib/python3.11/dist-packages (from requests->huggingface-hub>=0.20.0->sentence-transformers) (3.4.1)\n",
            "Requirement already satisfied: idna<4,>=2.5 in /usr/local/lib/python3.11/dist-packages (from requests->huggingface-hub>=0.20.0->sentence-transformers) (3.10)\n",
            "Requirement already satisfied: urllib3<3,>=1.21.1 in /usr/local/lib/python3.11/dist-packages (from requests->huggingface-hub>=0.20.0->sentence-transformers) (2.3.0)\n",
            "Requirement already satisfied: certifi>=2017.4.17 in /usr/local/lib/python3.11/dist-packages (from requests->huggingface-hub>=0.20.0->sentence-transformers) (2025.1.31)\n"
          ]
        }
      ],
      "source": [
        "pip install flask sentence-transformers faiss-cpu pyngrok"
      ]
    },
    {
      "cell_type": "markdown",
      "source": [
        "Host the model online"
      ],
      "metadata": {
        "id": "E3Xv_3gUyzra"
      }
    },
    {
      "cell_type": "code",
      "source": [
        "!ngrok authtoken 2tzUyhk65X52lS1gDCUQAB6ta2r_6tmGNqQai3VNjFzMupnNw"
      ],
      "metadata": {
        "colab": {
          "base_uri": "https://localhost:8080/"
        },
        "id": "Zy3a9fpv0yQG",
        "outputId": "39d41bad-d851-4698-b418-e70e4e51de44"
      },
      "execution_count": 6,
      "outputs": [
        {
          "output_type": "stream",
          "name": "stdout",
          "text": [
            "Authtoken saved to configuration file: /root/.config/ngrok/ngrok.yml\n"
          ]
        }
      ]
    },
    {
      "cell_type": "code",
      "source": [
        "from flask import Flask, request, jsonify\n",
        "from sentence_transformers import SentenceTransformer\n",
        "import faiss\n",
        "from pyngrok import ngrok\n",
        "\n",
        "app = Flask(__name__)\n",
        "\n",
        "embedding_dimension = 384\n",
        "faiss_index = faiss.IndexFlatL2(embedding_dimension)\n",
        "model = SentenceTransformer('sentence-transformers/all-MiniLM-L6-v2')\n",
        "\n",
        "def get_embedding(question_text):\n",
        "    if not question_text or len(question_text.strip()) == 0:\n",
        "        raise ValueError(\"Input question is empty or invalid.\")\n",
        "\n",
        "    try:\n",
        "        embedding = model.encode(question_text)\n",
        "\n",
        "        if len(embedding) != embedding_dimension:\n",
        "            raise ValueError(f\"Embedding dimension mismatch. Expected {embedding_dimension}, but got {len(embedding)}.\")\n",
        "\n",
        "        return embedding.tolist()\n",
        "\n",
        "    except Exception as e:\n",
        "        print(f\"Error generating embedding for '{question_text}': {str(e)}\")\n",
        "        return None\n",
        "\n",
        "@app.route('/get_embedding', methods=['POST'])\n",
        "def get_embedding_route():\n",
        "    data = request.get_json()\n",
        "    question = data.get('question')\n",
        "    if not question:\n",
        "        return jsonify({'error': 'No question provided'}), 400\n",
        "\n",
        "    embedding = get_embedding(question)\n",
        "    if embedding is None:\n",
        "        return jsonify({'error': 'Error generating embedding'}), 500\n",
        "\n",
        "    return jsonify({'embedding': embedding})\n",
        "\n",
        "ngrok_tunnel = ngrok.connect(5000)\n",
        "print('Public URL:', ngrok_tunnel.public_url)\n",
        "app.run(port=5000)"
      ],
      "metadata": {
        "colab": {
          "base_uri": "https://localhost:8080/"
        },
        "id": "13U9yzKu1Tt7",
        "outputId": "9e65b9d6-37c1-4f54-806b-097e337341a3"
      },
      "execution_count": null,
      "outputs": [
        {
          "metadata": {
            "tags": null
          },
          "name": "stdout",
          "output_type": "stream",
          "text": [
            "Public URL: https://5123-35-239-238-103.ngrok-free.app\n",
            " * Serving Flask app '__main__'\n",
            " * Debug mode: off\n"
          ]
        },
        {
          "output_type": "stream",
          "name": "stderr",
          "text": [
            "INFO:werkzeug:\u001b[31m\u001b[1mWARNING: This is a development server. Do not use it in a production deployment. Use a production WSGI server instead.\u001b[0m\n",
            " * Running on http://127.0.0.1:5000\n",
            "INFO:werkzeug:\u001b[33mPress CTRL+C to quit\u001b[0m\n",
            "INFO:werkzeug:127.0.0.1 - - [07/Mar/2025 13:53:14] \"POST /get_embedding HTTP/1.1\" 200 -\n",
            "INFO:werkzeug:127.0.0.1 - - [07/Mar/2025 13:53:15] \"POST /get_embedding HTTP/1.1\" 200 -\n",
            "INFO:werkzeug:127.0.0.1 - - [07/Mar/2025 13:53:19] \"POST /get_embedding HTTP/1.1\" 200 -\n",
            "INFO:werkzeug:127.0.0.1 - - [07/Mar/2025 13:53:20] \"POST /get_embedding HTTP/1.1\" 200 -\n",
            "INFO:werkzeug:127.0.0.1 - - [07/Mar/2025 13:54:21] \"POST /get_embedding HTTP/1.1\" 200 -\n",
            "INFO:werkzeug:127.0.0.1 - - [07/Mar/2025 13:54:21] \"POST /get_embedding HTTP/1.1\" 200 -\n",
            "INFO:werkzeug:127.0.0.1 - - [07/Mar/2025 13:54:29] \"POST /get_embedding HTTP/1.1\" 200 -\n",
            "INFO:werkzeug:127.0.0.1 - - [07/Mar/2025 13:54:29] \"POST /get_embedding HTTP/1.1\" 200 -\n",
            "INFO:werkzeug:127.0.0.1 - - [07/Mar/2025 13:54:30] \"POST /get_embedding HTTP/1.1\" 200 -\n",
            "INFO:werkzeug:127.0.0.1 - - [07/Mar/2025 13:54:30] \"POST /get_embedding HTTP/1.1\" 200 -\n",
            "INFO:werkzeug:127.0.0.1 - - [07/Mar/2025 13:54:31] \"POST /get_embedding HTTP/1.1\" 200 -\n",
            "INFO:werkzeug:127.0.0.1 - - [07/Mar/2025 13:54:32] \"POST /get_embedding HTTP/1.1\" 200 -\n",
            "INFO:werkzeug:127.0.0.1 - - [07/Mar/2025 13:54:32] \"POST /get_embedding HTTP/1.1\" 200 -\n",
            "INFO:werkzeug:127.0.0.1 - - [07/Mar/2025 13:54:32] \"POST /get_embedding HTTP/1.1\" 200 -\n",
            "INFO:werkzeug:127.0.0.1 - - [07/Mar/2025 13:54:33] \"POST /get_embedding HTTP/1.1\" 200 -\n",
            "INFO:werkzeug:127.0.0.1 - - [07/Mar/2025 13:54:34] \"POST /get_embedding HTTP/1.1\" 200 -\n",
            "INFO:werkzeug:127.0.0.1 - - [07/Mar/2025 13:55:02] \"POST /get_embedding HTTP/1.1\" 200 -\n",
            "INFO:werkzeug:127.0.0.1 - - [07/Mar/2025 13:55:06] \"POST /get_embedding HTTP/1.1\" 200 -\n",
            "INFO:werkzeug:127.0.0.1 - - [07/Mar/2025 13:55:07] \"POST /get_embedding HTTP/1.1\" 200 -\n",
            "INFO:werkzeug:127.0.0.1 - - [07/Mar/2025 13:55:07] \"POST /get_embedding HTTP/1.1\" 200 -\n",
            "INFO:werkzeug:127.0.0.1 - - [07/Mar/2025 13:55:10] \"POST /get_embedding HTTP/1.1\" 200 -\n",
            "INFO:werkzeug:127.0.0.1 - - [07/Mar/2025 14:50:46] \"POST /get_embedding HTTP/1.1\" 200 -\n",
            "INFO:werkzeug:127.0.0.1 - - [07/Mar/2025 14:51:56] \"POST /get_embedding HTTP/1.1\" 200 -\n",
            "INFO:werkzeug:127.0.0.1 - - [07/Mar/2025 14:55:18] \"POST /get_embedding HTTP/1.1\" 200 -\n",
            "INFO:werkzeug:127.0.0.1 - - [07/Mar/2025 15:00:14] \"POST /get_embedding HTTP/1.1\" 200 -\n",
            "INFO:werkzeug:127.0.0.1 - - [07/Mar/2025 15:01:16] \"POST /get_embedding HTTP/1.1\" 200 -\n",
            "INFO:werkzeug:127.0.0.1 - - [07/Mar/2025 15:07:50] \"POST /get_embedding HTTP/1.1\" 200 -\n",
            "INFO:werkzeug:127.0.0.1 - - [07/Mar/2025 15:09:52] \"POST /get_embedding HTTP/1.1\" 200 -\n",
            "INFO:werkzeug:127.0.0.1 - - [07/Mar/2025 15:12:00] \"POST /get_embedding HTTP/1.1\" 200 -\n",
            "INFO:werkzeug:127.0.0.1 - - [07/Mar/2025 15:13:51] \"POST /get_embedding HTTP/1.1\" 200 -\n",
            "INFO:werkzeug:127.0.0.1 - - [07/Mar/2025 15:16:22] \"POST /get_embedding HTTP/1.1\" 200 -\n",
            "INFO:werkzeug:127.0.0.1 - - [07/Mar/2025 15:21:28] \"POST /get_embedding HTTP/1.1\" 200 -\n",
            "INFO:werkzeug:127.0.0.1 - - [07/Mar/2025 15:24:25] \"POST /get_embedding HTTP/1.1\" 200 -\n",
            "INFO:werkzeug:127.0.0.1 - - [07/Mar/2025 15:27:14] \"POST /get_embedding HTTP/1.1\" 200 -\n",
            "INFO:werkzeug:127.0.0.1 - - [07/Mar/2025 15:31:36] \"POST /get_embedding HTTP/1.1\" 200 -\n"
          ]
        }
      ]
    }
  ]
}